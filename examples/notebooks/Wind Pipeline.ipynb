{
 "cells": [
  {
   "cell_type": "code",
   "execution_count": 1,
   "metadata": {},
   "outputs": [],
   "source": [
    "from wind.loader import WindLoader\n",
    "\n",
    "loader = WindLoader('../datasets/wind/', 'labels', 'label')"
   ]
  },
  {
   "cell_type": "code",
   "execution_count": 2,
   "metadata": {},
   "outputs": [],
   "source": [
    "X, y, tables = loader.load()"
   ]
  },
  {
   "cell_type": "code",
   "execution_count": 3,
   "metadata": {},
   "outputs": [
    {
     "data": {
      "text/plain": [
       "dict_keys(['readings', 'signals', 'turbines'])"
      ]
     },
     "execution_count": 3,
     "metadata": {},
     "output_type": "execute_result"
    }
   ],
   "source": [
    "tables.keys()"
   ]
  },
  {
   "cell_type": "code",
   "execution_count": 4,
   "metadata": {},
   "outputs": [],
   "source": [
    "from sklearn.model_selection import train_test_split"
   ]
  },
  {
   "cell_type": "code",
   "execution_count": 5,
   "metadata": {},
   "outputs": [
    {
     "data": {
      "text/html": [
       "<div>\n",
       "<style scoped>\n",
       "    .dataframe tbody tr th:only-of-type {\n",
       "        vertical-align: middle;\n",
       "    }\n",
       "\n",
       "    .dataframe tbody tr th {\n",
       "        vertical-align: top;\n",
       "    }\n",
       "\n",
       "    .dataframe thead th {\n",
       "        text-align: right;\n",
       "    }\n",
       "</style>\n",
       "<table border=\"1\" class=\"dataframe\">\n",
       "  <thead>\n",
       "    <tr style=\"text-align: right;\">\n",
       "      <th></th>\n",
       "      <th>label_id</th>\n",
       "      <th>turbine_id</th>\n",
       "      <th>timestamp</th>\n",
       "    </tr>\n",
       "  </thead>\n",
       "  <tbody>\n",
       "    <tr>\n",
       "      <th>0</th>\n",
       "      <td>0</td>\n",
       "      <td>0</td>\n",
       "      <td>2013-01-01</td>\n",
       "    </tr>\n",
       "    <tr>\n",
       "      <th>1</th>\n",
       "      <td>1</td>\n",
       "      <td>0</td>\n",
       "      <td>2013-01-02</td>\n",
       "    </tr>\n",
       "    <tr>\n",
       "      <th>2</th>\n",
       "      <td>2</td>\n",
       "      <td>0</td>\n",
       "      <td>2013-01-03</td>\n",
       "    </tr>\n",
       "    <tr>\n",
       "      <th>3</th>\n",
       "      <td>3</td>\n",
       "      <td>0</td>\n",
       "      <td>2013-01-04</td>\n",
       "    </tr>\n",
       "    <tr>\n",
       "      <th>4</th>\n",
       "      <td>4</td>\n",
       "      <td>0</td>\n",
       "      <td>2013-01-05</td>\n",
       "    </tr>\n",
       "  </tbody>\n",
       "</table>\n",
       "</div>"
      ],
      "text/plain": [
       "   label_id  turbine_id  timestamp\n",
       "0         0           0 2013-01-01\n",
       "1         1           0 2013-01-02\n",
       "2         2           0 2013-01-03\n",
       "3         3           0 2013-01-04\n",
       "4         4           0 2013-01-05"
      ]
     },
     "execution_count": 5,
     "metadata": {},
     "output_type": "execute_result"
    }
   ],
   "source": [
    "X.head()"
   ]
  },
  {
   "cell_type": "code",
   "execution_count": 6,
   "metadata": {},
   "outputs": [
    {
     "data": {
      "text/plain": [
       "0    0.0\n",
       "1    0.0\n",
       "2    0.0\n",
       "3    0.0\n",
       "4    0.0\n",
       "Name: label, dtype: float64"
      ]
     },
     "execution_count": 6,
     "metadata": {},
     "output_type": "execute_result"
    }
   ],
   "source": [
    "y.head()"
   ]
  },
  {
   "cell_type": "code",
   "execution_count": 7,
   "metadata": {},
   "outputs": [],
   "source": [
    "X_train, X_test, y_train, y_test = train_test_split(X, y, random_state=0)"
   ]
  },
  {
   "cell_type": "code",
   "execution_count": 8,
   "metadata": {},
   "outputs": [],
   "source": [
    "from wind.utils import logging_setup\n",
    "\n",
    "logging_setup(1)"
   ]
  },
  {
   "cell_type": "code",
   "execution_count": 9,
   "metadata": {},
   "outputs": [
    {
     "name": "stderr",
     "output_type": "stream",
     "text": [
      "Using TensorFlow backend.\n"
     ]
    }
   ],
   "source": [
    "from wind.pipeline import WindPipeline\n",
    "\n",
    "pipeline = WindPipeline('wind_classification', 'accuracy', cv_splits=2)"
   ]
  },
  {
   "cell_type": "code",
   "execution_count": 10,
   "metadata": {},
   "outputs": [
    {
     "name": "stderr",
     "output_type": "stream",
     "text": [
      "2019-03-08 04:01:18,891 - 21530 - INFO - pipeline - Scoring the default pipeline\n",
      "2019-03-08 04:04:15,035 - 21530 - INFO - pipeline - Default Pipeline score: 0.7314748093436618\n",
      "2019-03-08 04:04:15,038 - 21530 - INFO - pipeline - Scoring pipeline 1\n",
      "2019-03-08 04:04:15,040 - 21530 - INFO - gp - Using Uniform sampler as user specified r_minimum threshold is not met to start the GP based learning\n",
      "2019-03-08 04:04:28,255 - 21530 - ERROR - ultratb - Internal Python error in the inspect module.\n",
      "Below is the traceback from this internal error.\n",
      "\n",
      "2019-03-08 04:04:28,264 - 21530 - INFO - ultratb - \n",
      "Unfortunately, your original traceback can not be constructed.\n",
      "\n"
     ]
    },
    {
     "name": "stdout",
     "output_type": "stream",
     "text": [
      "Traceback (most recent call last):\n",
      "  File \"/home/xals/.virtualenvs/wind/lib/python3.6/site-packages/IPython/core/interactiveshell.py\", line 3291, in run_code\n",
      "    exec(code_obj, self.user_global_ns, self.user_ns)\n",
      "  File \"<ipython-input-10-f5d4550c1879>\", line 1, in <module>\n",
      "    pipeline.tune(X, y, tables, iterations=5)\n",
      "  File \"/home/xals/Projects/Pythia/MIT/wind/wind/pipeline.py\", line 195, in tune\n",
      "    score = self._score_pipeline(candidate, X, y, tables)\n",
      "  File \"/home/xals/Projects/Pythia/MIT/wind/wind/pipeline.py\", line 126, in _score_pipeline\n",
      "    pipeline.fit(X_train, y_train, **tables)\n",
      "  File \"/home/xals/.virtualenvs/wind/lib/python3.6/site-packages/mlblocks/mlpipeline.py\", line 221, in fit\n",
      "    block.fit(**fit_args)\n",
      "  File \"/home/xals/.virtualenvs/wind/lib/python3.6/site-packages/mlblocks/mlblock.py\", line 246, in fit\n",
      "    getattr(self.instance, self.fit_method)(**fit_args)\n",
      "  File \"/home/xals/.virtualenvs/wind/src/mlprimitives/mlprimitives/adapters/featuretools.py\", line 86, in dfs\n",
      "    instance_ids=instance_ids,\n",
      "  File \"/home/xals/.virtualenvs/wind/lib/python3.6/site-packages/featuretools/computational_backends/calculate_feature_matrix.py\", line 267, in calculate_feature_matrix\n",
      "    pass_columns=pass_columns)\n",
      "  File \"/home/xals/.virtualenvs/wind/lib/python3.6/site-packages/featuretools/computational_backends/calculate_feature_matrix.py\", line 530, in linear_calculate_chunks\n",
      "    backend=backend)\n",
      "  File \"/home/xals/.virtualenvs/wind/lib/python3.6/site-packages/featuretools/computational_backends/calculate_feature_matrix.py\", line 351, in calculate_chunk\n",
      "    training_window=window)\n",
      "  File \"/home/xals/.virtualenvs/wind/lib/python3.6/site-packages/featuretools/computational_backends/utils.py\", line 36, in wrapped\n",
      "    r = method(*args, **kwargs)\n",
      "  File \"/home/xals/.virtualenvs/wind/lib/python3.6/site-packages/featuretools/computational_backends/calculate_feature_matrix.py\", line 325, in calc_results\n",
      "    profile=profile)\n",
      "  File \"/home/xals/.virtualenvs/wind/lib/python3.6/site-packages/featuretools/computational_backends/pandas_backend.py\", line 210, in calculate_all_features\n",
      "    axis=1)\n",
      "  File \"/home/xals/.virtualenvs/wind/lib/python3.6/site-packages/pandas/core/reshape/concat.py\", line 228, in concat\n",
      "    copy=copy, sort=sort)\n",
      "  File \"/home/xals/.virtualenvs/wind/lib/python3.6/site-packages/pandas/core/reshape/concat.py\", line 381, in __init__\n",
      "    self.new_axes = self._get_new_axes()\n",
      "  File \"/home/xals/.virtualenvs/wind/lib/python3.6/site-packages/pandas/core/reshape/concat.py\", line 461, in _get_new_axes\n",
      "    new_axes[self.axis] = self._get_concat_axis()\n",
      "  File \"/home/xals/.virtualenvs/wind/lib/python3.6/site-packages/pandas/core/reshape/concat.py\", line 514, in _get_concat_axis\n",
      "    concat_axis = _concat_indexes(indexes)\n",
      "  File \"/home/xals/.virtualenvs/wind/lib/python3.6/site-packages/pandas/core/reshape/concat.py\", line 532, in _concat_indexes\n",
      "    return indexes[0].append(indexes[1:])\n",
      "  File \"/home/xals/.virtualenvs/wind/lib/python3.6/site-packages/pandas/core/indexes/base.py\", line 4014, in append\n",
      "    return self._concat(to_concat, name)\n",
      "  File \"/home/xals/.virtualenvs/wind/lib/python3.6/site-packages/pandas/core/indexes/base.py\", line 4021, in _concat\n",
      "    return self._concat_same_dtype(to_concat, name=name)\n",
      "  File \"/home/xals/.virtualenvs/wind/lib/python3.6/site-packages/pandas/core/indexes/base.py\", line 4029, in _concat_same_dtype\n",
      "    return _concat._concat_index_asobject(to_concat, name)\n",
      "  File \"/home/xals/.virtualenvs/wind/lib/python3.6/site-packages/pandas/core/dtypes/concat.py\", line 506, in _concat_index_asobject\n",
      "    return self._shallow_copy_with_infer(np.concatenate(to_concat), **attribs)\n",
      "  File \"/home/xals/.virtualenvs/wind/lib/python3.6/site-packages/pandas/core/indexes/base.py\", line 607, in _shallow_copy_with_infer\n",
      "    return Index(values, **attributes)\n",
      "  File \"/home/xals/.virtualenvs/wind/lib/python3.6/site-packages/pandas/core/indexes/base.py\", line 414, in __new__\n",
      "    subarr = com.asarray_tuplesafe(data, dtype=object)\n",
      "  File \"/home/xals/.virtualenvs/wind/lib/python3.6/site-packages/pandas/core/common.py\", line 224, in asarray_tuplesafe\n",
      "    if not (isinstance(values, (list, tuple)) or hasattr(values, '__array__')):\n",
      "KeyboardInterrupt\n",
      "\n",
      "During handling of the above exception, another exception occurred:\n",
      "\n",
      "Traceback (most recent call last):\n",
      "  File \"/home/xals/.virtualenvs/wind/lib/python3.6/site-packages/IPython/core/interactiveshell.py\", line 2033, in showtraceback\n",
      "    stb = value._render_traceback_()\n",
      "AttributeError: 'KeyboardInterrupt' object has no attribute '_render_traceback_'\n",
      "\n",
      "During handling of the above exception, another exception occurred:\n",
      "\n",
      "Traceback (most recent call last):\n",
      "  File \"/home/xals/.virtualenvs/wind/lib/python3.6/site-packages/IPython/core/ultratb.py\", line 1095, in get_records\n",
      "    return _fixed_getinnerframes(etb, number_of_lines_of_context, tb_offset)\n",
      "  File \"/home/xals/.virtualenvs/wind/lib/python3.6/site-packages/IPython/core/ultratb.py\", line 313, in wrapped\n",
      "    return f(*args, **kwargs)\n",
      "  File \"/home/xals/.virtualenvs/wind/lib/python3.6/site-packages/IPython/core/ultratb.py\", line 347, in _fixed_getinnerframes\n",
      "    records = fix_frame_records_filenames(inspect.getinnerframes(etb, context))\n",
      "  File \"/usr/lib/python3.6/inspect.py\", line 1488, in getinnerframes\n",
      "    frameinfo = (tb.tb_frame,) + getframeinfo(tb, context)\n",
      "  File \"/usr/lib/python3.6/inspect.py\", line 1446, in getframeinfo\n",
      "    filename = getsourcefile(frame) or getfile(frame)\n",
      "  File \"/usr/lib/python3.6/inspect.py\", line 696, in getsourcefile\n",
      "    if getattr(getmodule(object, filename), '__loader__', None) is not None:\n",
      "  File \"/usr/lib/python3.6/inspect.py\", line 742, in getmodule\n",
      "    os.path.realpath(f)] = module.__name__\n",
      "  File \"/home/xals/.virtualenvs/wind/lib/python3.6/posixpath.py\", line 388, in realpath\n",
      "    path, ok = _joinrealpath(filename[:0], filename, {})\n",
      "  File \"/home/xals/.virtualenvs/wind/lib/python3.6/posixpath.py\", line 422, in _joinrealpath\n",
      "    if not islink(newpath):\n",
      "  File \"/home/xals/.virtualenvs/wind/lib/python3.6/posixpath.py\", line 171, in islink\n",
      "    st = os.lstat(path)\n",
      "KeyboardInterrupt\n"
     ]
    },
    {
     "ename": "KeyboardInterrupt",
     "evalue": "",
     "output_type": "error",
     "traceback": [
      "\u001b[0;31m---------------------------------------------------------------------------\u001b[0m"
     ]
    }
   ],
   "source": [
    "pipeline.tune(X, y, tables, iterations=5)"
   ]
  },
  {
   "cell_type": "code",
   "execution_count": null,
   "metadata": {},
   "outputs": [],
   "source": [
    "pipeline.fit(X_train, y_train, tables)"
   ]
  },
  {
   "cell_type": "code",
   "execution_count": null,
   "metadata": {},
   "outputs": [],
   "source": [
    "predictions = pipeline.predict(X_test, tables)"
   ]
  },
  {
   "cell_type": "code",
   "execution_count": null,
   "metadata": {},
   "outputs": [],
   "source": [
    "predictions[0:5]"
   ]
  },
  {
   "cell_type": "code",
   "execution_count": null,
   "metadata": {},
   "outputs": [],
   "source": [
    "from sklearn.metrics import accuracy_score"
   ]
  },
  {
   "cell_type": "code",
   "execution_count": null,
   "metadata": {},
   "outputs": [],
   "source": [
    "accuracy_score(y_test, predictions)"
   ]
  }
 ],
 "metadata": {
  "kernelspec": {
   "display_name": "Python 3",
   "language": "python",
   "name": "python3"
  },
  "language_info": {
   "codemirror_mode": {
    "name": "ipython",
    "version": 3
   },
   "file_extension": ".py",
   "mimetype": "text/x-python",
   "name": "python",
   "nbconvert_exporter": "python",
   "pygments_lexer": "ipython3",
   "version": "3.6.7"
  }
 },
 "nbformat": 4,
 "nbformat_minor": 2
}
