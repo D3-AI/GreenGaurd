{
 "cells": [
  {
   "cell_type": "markdown",
   "metadata": {},
   "source": [
    "# Extract Readings\n",
    "\n",
    "This notebook shows how to use the CSVLoader class to load readings from a folder\n",
    "containing readings in the raw format.\n",
    "\n",
    "Details about the raw readings format can be found in the documentation site.\n",
    "\n",
    "In this notebook we will:\n",
    "\n",
    "- Generate a folder with readings in the raw format based on the demo data\n",
    "- Load the redings needed for our target times\n",
    "- Explore different options from the CSVLoader\n",
    "- Load a pipeline and use it on the loaded data\n",
    "- Load the readings in the unstacked format\n",
    "- Load an unstacked pipeline and use it on the loaded data"
   ]
  },
  {
   "cell_type": "markdown",
   "metadata": {},
   "source": [
    "## 0. Setup the logging\n",
    "\n",
    "This step sets up logging in our environment to increase our visibility over\n",
    "the steps that GreenGuard performs."
   ]
  },
  {
   "cell_type": "code",
   "execution_count": 1,
   "metadata": {},
   "outputs": [],
   "source": [
    "import logging;\n",
    "\n",
    "logging.basicConfig(level=logging.INFO)\n",
    "logging.getLogger().setLevel(level=logging.INFO)\n",
    "\n",
    "import warnings\n",
    "warnings.simplefilter(\"ignore\")"
   ]
  },
  {
   "cell_type": "markdown",
   "metadata": {},
   "source": [
    "## 1. Generate Raw Readings\n",
    "\n",
    "The first step will be to execute the `generate_raw_readings` function, which will create a\n",
    "folder in the indicated path and populate it with the raw version of the demo readings.\n",
    "\n",
    "**NOTE**: if you want to use your own dataset you can skip this step and go directly to step 2."
   ]
  },
  {
   "cell_type": "code",
   "execution_count": 2,
   "metadata": {
    "scrolled": true
   },
   "outputs": [
    {
     "name": "stderr",
     "output_type": "stream",
     "text": [
      "2020-02-10 18:41:33,310 - INFO - demo - Generating file readings/T001/2013-01-.csv\n",
      "2020-02-10 18:41:34,048 - INFO - demo - Generating file readings/T001/2013-02-.csv\n",
      "2020-02-10 18:41:34,845 - INFO - demo - Generating file readings/T001/2013-03-.csv\n",
      "2020-02-10 18:41:35,670 - INFO - demo - Generating file readings/T001/2013-04-.csv\n",
      "2020-02-10 18:41:36,476 - INFO - demo - Generating file readings/T001/2013-05-.csv\n",
      "2020-02-10 18:41:37,259 - INFO - demo - Generating file readings/T001/2013-06-.csv\n",
      "2020-02-10 18:41:38,194 - INFO - demo - Generating file readings/T001/2013-07-.csv\n",
      "2020-02-10 18:41:39,031 - INFO - demo - Generating file readings/T001/2013-08-.csv\n",
      "2020-02-10 18:41:39,891 - INFO - demo - Generating file readings/T001/2013-09-.csv\n",
      "2020-02-10 18:41:40,689 - INFO - demo - Generating file readings/T001/2013-10-.csv\n",
      "2020-02-10 18:41:41,478 - INFO - demo - Generating file readings/T001/2013-11-.csv\n",
      "2020-02-10 18:41:42,249 - INFO - demo - Generating file readings/T001/2013-12-.csv\n"
     ]
    }
   ],
   "source": [
    "from greenguard.demo import generate_raw_readings\n",
    "\n",
    "target_times = generate_raw_readings('readings')"
   ]
  },
  {
   "cell_type": "markdown",
   "metadata": {},
   "source": [
    "This function will generate a set of reading files in the raw format.\n",
    "\n",
    "We will load one of them to explore it:"
   ]
  },
  {
   "cell_type": "markdown",
   "metadata": {},
   "source": [
    "### Readings Format"
   ]
  },
  {
   "cell_type": "code",
   "execution_count": 3,
   "metadata": {},
   "outputs": [],
   "source": [
    "import pandas as pd\n",
    "\n",
    "readings_sample = pd.read_csv('readings/T001/2013-01-.csv')"
   ]
  },
  {
   "cell_type": "code",
   "execution_count": 4,
   "metadata": {},
   "outputs": [
    {
     "data": {
      "text/html": [
       "<div>\n",
       "<style scoped>\n",
       "    .dataframe tbody tr th:only-of-type {\n",
       "        vertical-align: middle;\n",
       "    }\n",
       "\n",
       "    .dataframe tbody tr th {\n",
       "        vertical-align: top;\n",
       "    }\n",
       "\n",
       "    .dataframe thead th {\n",
       "        text-align: right;\n",
       "    }\n",
       "</style>\n",
       "<table border=\"1\" class=\"dataframe\">\n",
       "  <thead>\n",
       "    <tr style=\"text-align: right;\">\n",
       "      <th></th>\n",
       "      <th>signal_id</th>\n",
       "      <th>timestamp</th>\n",
       "      <th>value</th>\n",
       "    </tr>\n",
       "  </thead>\n",
       "  <tbody>\n",
       "    <tr>\n",
       "      <th>0</th>\n",
       "      <td>S01</td>\n",
       "      <td>01/10/13 00:00:00</td>\n",
       "      <td>323.0</td>\n",
       "    </tr>\n",
       "    <tr>\n",
       "      <th>1</th>\n",
       "      <td>S02</td>\n",
       "      <td>01/10/13 00:00:00</td>\n",
       "      <td>320.0</td>\n",
       "    </tr>\n",
       "    <tr>\n",
       "      <th>2</th>\n",
       "      <td>S03</td>\n",
       "      <td>01/10/13 00:00:00</td>\n",
       "      <td>284.0</td>\n",
       "    </tr>\n",
       "    <tr>\n",
       "      <th>3</th>\n",
       "      <td>S04</td>\n",
       "      <td>01/10/13 00:00:00</td>\n",
       "      <td>348.0</td>\n",
       "    </tr>\n",
       "    <tr>\n",
       "      <th>4</th>\n",
       "      <td>S05</td>\n",
       "      <td>01/10/13 00:00:00</td>\n",
       "      <td>273.0</td>\n",
       "    </tr>\n",
       "  </tbody>\n",
       "</table>\n",
       "</div>"
      ],
      "text/plain": [
       "  signal_id          timestamp  value\n",
       "0       S01  01/10/13 00:00:00  323.0\n",
       "1       S02  01/10/13 00:00:00  320.0\n",
       "2       S03  01/10/13 00:00:00  284.0\n",
       "3       S04  01/10/13 00:00:00  348.0\n",
       "4       S05  01/10/13 00:00:00  273.0"
      ]
     },
     "execution_count": 4,
     "metadata": {},
     "output_type": "execute_result"
    }
   ],
   "source": [
    "readings_sample.head()"
   ]
  },
  {
   "cell_type": "markdown",
   "metadata": {},
   "source": [
    "Here we can cleary see the format in which the data is stored:\n",
    "\n",
    "* All the data from all the turbines is inside a single folder.\n",
    "* Inside this folder, one folder exists for each turbine, named exactly like the turbine:\n",
    "    * `readings/T001`\n",
    "    * `readings/T002`\n",
    "    * ...\n",
    "* Inside each turbine folder one CSV file exists for each month, named `%Y-%m-.csv`.\n",
    "    * `readings/T001/2010-01-.csv`\n",
    "    * `readings/T001/2010-02-.csv`\n",
    "    * `readings/T001/2010-03-.csv`\n",
    "    * ...\n",
    "* Each CSV file contains three columns:\n",
    "    * `signal_id`: name or id of the signal.\n",
    "    * ``timestamp``: timestamp of the reading formatted as ``%m/%d/%y %H:%M:%S``.\n",
    "    * `value`: value of the reading."
   ]
  },
  {
   "cell_type": "markdown",
   "metadata": {},
   "source": [
    "### Target Times"
   ]
  },
  {
   "cell_type": "markdown",
   "metadata": {},
   "source": [
    "The previous function will have also returned us a `target_times` variable,\n",
    "which is a `pandas.DataFrame` with the three expected columns:\n",
    "\n",
    "* `turbine_id`\n",
    "* `cutoff_time`\n",
    "* `target`"
   ]
  },
  {
   "cell_type": "code",
   "execution_count": 7,
   "metadata": {},
   "outputs": [
    {
     "data": {
      "text/plain": [
       "(353, 3)"
      ]
     },
     "execution_count": 7,
     "metadata": {},
     "output_type": "execute_result"
    }
   ],
   "source": [
    "target_times.shape"
   ]
  },
  {
   "cell_type": "code",
   "execution_count": 8,
   "metadata": {},
   "outputs": [
    {
     "data": {
      "text/html": [
       "<div>\n",
       "<style scoped>\n",
       "    .dataframe tbody tr th:only-of-type {\n",
       "        vertical-align: middle;\n",
       "    }\n",
       "\n",
       "    .dataframe tbody tr th {\n",
       "        vertical-align: top;\n",
       "    }\n",
       "\n",
       "    .dataframe thead th {\n",
       "        text-align: right;\n",
       "    }\n",
       "</style>\n",
       "<table border=\"1\" class=\"dataframe\">\n",
       "  <thead>\n",
       "    <tr style=\"text-align: right;\">\n",
       "      <th></th>\n",
       "      <th>turbine_id</th>\n",
       "      <th>cutoff_time</th>\n",
       "      <th>target</th>\n",
       "    </tr>\n",
       "  </thead>\n",
       "  <tbody>\n",
       "    <tr>\n",
       "      <th>0</th>\n",
       "      <td>T001</td>\n",
       "      <td>2013-01-12</td>\n",
       "      <td>0</td>\n",
       "    </tr>\n",
       "    <tr>\n",
       "      <th>1</th>\n",
       "      <td>T001</td>\n",
       "      <td>2013-01-13</td>\n",
       "      <td>0</td>\n",
       "    </tr>\n",
       "    <tr>\n",
       "      <th>2</th>\n",
       "      <td>T001</td>\n",
       "      <td>2013-01-14</td>\n",
       "      <td>0</td>\n",
       "    </tr>\n",
       "    <tr>\n",
       "      <th>3</th>\n",
       "      <td>T001</td>\n",
       "      <td>2013-01-15</td>\n",
       "      <td>1</td>\n",
       "    </tr>\n",
       "    <tr>\n",
       "      <th>4</th>\n",
       "      <td>T001</td>\n",
       "      <td>2013-01-16</td>\n",
       "      <td>0</td>\n",
       "    </tr>\n",
       "  </tbody>\n",
       "</table>\n",
       "</div>"
      ],
      "text/plain": [
       "  turbine_id cutoff_time  target\n",
       "0       T001  2013-01-12       0\n",
       "1       T001  2013-01-13       0\n",
       "2       T001  2013-01-14       0\n",
       "3       T001  2013-01-15       1\n",
       "4       T001  2013-01-16       0"
      ]
     },
     "execution_count": 8,
     "metadata": {},
     "output_type": "execute_result"
    }
   ],
   "source": [
    "target_times.head()"
   ]
  },
  {
   "cell_type": "code",
   "execution_count": 9,
   "metadata": {},
   "outputs": [
    {
     "data": {
      "text/plain": [
       "0.3002832861189802"
      ]
     },
     "execution_count": 9,
     "metadata": {},
     "output_type": "execute_result"
    }
   ],
   "source": [
    "target_times.target.mean()"
   ]
  },
  {
   "cell_type": "code",
   "execution_count": 10,
   "metadata": {},
   "outputs": [
    {
     "data": {
      "text/plain": [
       "turbine_id             object\n",
       "cutoff_time    datetime64[ns]\n",
       "target                  int64\n",
       "dtype: object"
      ]
     },
     "execution_count": 10,
     "metadata": {},
     "output_type": "execute_result"
    }
   ],
   "source": [
    "target_times.dtypes"
   ]
  },
  {
   "cell_type": "markdown",
   "metadata": {},
   "source": [
    "## 2. CSVLoader\n",
    "\n",
    "The readings in raw format can arbitrarily big, which might make it impossible to load\n",
    "them into memory all at once.\n",
    "\n",
    "In order to load them in an efficient way that allows us to solve Machine Learning problems\n",
    "using them, GeenGuard provides the `greenguard.loaders.CVSLoader` class.\n",
    "\n",
    "This class is prepared to, given a target times table, explore a collection of raw readings\n",
    "and extract only the information needed to solve the corresponding problem.\n",
    "\n",
    "The first step in order to use it, is to create an instance passing it the path\n",
    "to where the reading files are stored.\n",
    "\n",
    "**NOTE**: If you want to use your own dataset instead of the demo version,\n",
    "all you have to do is make the `readings_path` variable point at the\n",
    "folder where you have your CVS files stored and load your `target_times` table:\n",
    "\n",
    "Make sure to parse the `cutoff_time` column!\n",
    "\n",
    "```python\n",
    "readings_path = 'path/to/your/data'\n",
    "target_times = pd.read_csv('path/to/your/target_times.csv', parse_dates=['cutoff_time'])\n",
    "```"
   ]
  },
  {
   "cell_type": "code",
   "execution_count": 12,
   "metadata": {},
   "outputs": [],
   "source": [
    "from greenguard.loaders import CSVLoader\n",
    "\n",
    "readings_path = 'readings'\n",
    "\n",
    "csv_loader = CSVLoader(readings_path)"
   ]
  },
  {
   "cell_type": "markdown",
   "metadata": {},
   "source": [
    "Once we have created our instance, we can load the readings needed for our target times\n",
    "calling the `load` method with two arguments:\n",
    "\n",
    "* `target_times (pandas.DataFrame)`: the `target_times` table.\n",
    "* `window_size (str)`: the size of the training window, as a timedelta specification\n",
    "  (amount + time unit). This indicates the minimum amount of data that we need to\n",
    "  load for each training from the `target_times` table.\n",
    "  \n",
    "For example, let's load the readings needed for all our `target_times`, using a\n",
    "`window_size` of one day."
   ]
  },
  {
   "cell_type": "code",
   "execution_count": 17,
   "metadata": {
    "scrolled": false
   },
   "outputs": [
    {
     "name": "stderr",
     "output_type": "stream",
     "text": [
      "2020-02-10 19:03:18,638 - INFO - csv - Loaded 1298564 readings from turbine T001\n",
      "2020-02-10 19:03:18,763 - INFO - csv - Loaded 1298564 turbine readings\n",
      "2020-02-10 19:03:19,115 - INFO - targets - Dropped 2 invalid targets\n"
     ]
    }
   ],
   "source": [
    "target_times, readings = csv_loader.load(target_times, '1d')"
   ]
  },
  {
   "cell_type": "code",
   "execution_count": 18,
   "metadata": {},
   "outputs": [
    {
     "data": {
      "text/plain": [
       "(1298564, 4)"
      ]
     },
     "execution_count": 18,
     "metadata": {},
     "output_type": "execute_result"
    }
   ],
   "source": [
    "readings.shape"
   ]
  },
  {
   "cell_type": "code",
   "execution_count": 19,
   "metadata": {},
   "outputs": [
    {
     "data": {
      "text/html": [
       "<div>\n",
       "<style scoped>\n",
       "    .dataframe tbody tr th:only-of-type {\n",
       "        vertical-align: middle;\n",
       "    }\n",
       "\n",
       "    .dataframe tbody tr th {\n",
       "        vertical-align: top;\n",
       "    }\n",
       "\n",
       "    .dataframe thead th {\n",
       "        text-align: right;\n",
       "    }\n",
       "</style>\n",
       "<table border=\"1\" class=\"dataframe\">\n",
       "  <thead>\n",
       "    <tr style=\"text-align: right;\">\n",
       "      <th></th>\n",
       "      <th>turbine_id</th>\n",
       "      <th>signal_id</th>\n",
       "      <th>timestamp</th>\n",
       "      <th>value</th>\n",
       "    </tr>\n",
       "  </thead>\n",
       "  <tbody>\n",
       "    <tr>\n",
       "      <th>0</th>\n",
       "      <td>T001</td>\n",
       "      <td>S01</td>\n",
       "      <td>2013-01-12</td>\n",
       "      <td>294.0</td>\n",
       "    </tr>\n",
       "    <tr>\n",
       "      <th>1</th>\n",
       "      <td>T001</td>\n",
       "      <td>S02</td>\n",
       "      <td>2013-01-12</td>\n",
       "      <td>310.0</td>\n",
       "    </tr>\n",
       "    <tr>\n",
       "      <th>2</th>\n",
       "      <td>T001</td>\n",
       "      <td>S03</td>\n",
       "      <td>2013-01-12</td>\n",
       "      <td>306.0</td>\n",
       "    </tr>\n",
       "    <tr>\n",
       "      <th>3</th>\n",
       "      <td>T001</td>\n",
       "      <td>S04</td>\n",
       "      <td>2013-01-12</td>\n",
       "      <td>303.0</td>\n",
       "    </tr>\n",
       "    <tr>\n",
       "      <th>4</th>\n",
       "      <td>T001</td>\n",
       "      <td>S05</td>\n",
       "      <td>2013-01-12</td>\n",
       "      <td>265.0</td>\n",
       "    </tr>\n",
       "  </tbody>\n",
       "</table>\n",
       "</div>"
      ],
      "text/plain": [
       "  turbine_id signal_id  timestamp  value\n",
       "0       T001       S01 2013-01-12  294.0\n",
       "1       T001       S02 2013-01-12  310.0\n",
       "2       T001       S03 2013-01-12  306.0\n",
       "3       T001       S04 2013-01-12  303.0\n",
       "4       T001       S05 2013-01-12  265.0"
      ]
     },
     "execution_count": 19,
     "metadata": {},
     "output_type": "execute_result"
    }
   ],
   "source": [
    "readings.head()"
   ]
  },
  {
   "cell_type": "code",
   "execution_count": 20,
   "metadata": {},
   "outputs": [
    {
     "data": {
      "text/plain": [
       "turbine_id            object\n",
       "signal_id             object\n",
       "timestamp     datetime64[ns]\n",
       "value                float64\n",
       "dtype: object"
      ]
     },
     "execution_count": 20,
     "metadata": {},
     "output_type": "execute_result"
    }
   ],
   "source": [
    "readings.dtypes"
   ]
  },
  {
   "cell_type": "markdown",
   "metadata": {},
   "source": [
    "We can see how the readings have been loaded with the expected format, including\n",
    "the four expected columns:\n",
    "\n",
    "* `turbine_id`: Unique identifier of the turbine which this reading comes from.\n",
    "* `signal_id`: Unique identifier of the signal which this reading comes from.\n",
    "* `timestamp (datetime)`: Time where the reading took place, as a datetime.\n",
    "* `value (float)`: Numeric value of this reading."
   ]
  },
  {
   "cell_type": "markdown",
   "metadata": {},
   "source": [
    "We can also see how there is a message that indicates that there are 2 invalid targets\n",
    "that have been dropped. This is because within our readings there was not enough\n",
    "data to cover the entire trainin window for them, so they cannot be included in the\n",
    "final problem specification."
   ]
  },
  {
   "cell_type": "code",
   "execution_count": 11,
   "metadata": {},
   "outputs": [
    {
     "data": {
      "text/plain": [
       "(351, 3)"
      ]
     },
     "execution_count": 11,
     "metadata": {},
     "output_type": "execute_result"
    }
   ],
   "source": [
    "target_times.shape"
   ]
  },
  {
   "cell_type": "markdown",
   "metadata": {},
   "source": [
    "Let's see what happens if we increase the `window_size` to, for example, 30 days."
   ]
  },
  {
   "cell_type": "code",
   "execution_count": 22,
   "metadata": {},
   "outputs": [
    {
     "name": "stderr",
     "output_type": "stream",
     "text": [
      "2020-02-10 19:08:21,859 - INFO - csv - Loaded 1302308 readings from turbine T001\n",
      "2020-02-10 19:08:21,955 - INFO - csv - Loaded 1302308 turbine readings\n",
      "2020-02-10 19:08:22,298 - INFO - targets - Dropped 28 invalid targets\n"
     ]
    }
   ],
   "source": [
    "target_times, readings = csv_loader.load(target_times, '30d')"
   ]
  },
  {
   "cell_type": "markdown",
   "metadata": {},
   "source": [
    "We can see that now more targets needed to be dropped, because there was enough data\n",
    "for them."
   ]
  },
  {
   "cell_type": "code",
   "execution_count": 26,
   "metadata": {},
   "outputs": [
    {
     "data": {
      "text/plain": [
       "(321, 3)"
      ]
     },
     "execution_count": 26,
     "metadata": {},
     "output_type": "execute_result"
    }
   ],
   "source": [
    "target_times.shape"
   ]
  },
  {
   "cell_type": "markdown",
   "metadata": {},
   "source": [
    "On the other side, we can see how now the size of the loaded readings table\n",
    "is a bit bigger, as more data had to be included to properly cover all the\n",
    "training windows."
   ]
  },
  {
   "cell_type": "code",
   "execution_count": 27,
   "metadata": {},
   "outputs": [
    {
     "data": {
      "text/plain": [
       "(1302308, 4)"
      ]
     },
     "execution_count": 27,
     "metadata": {},
     "output_type": "execute_result"
    }
   ],
   "source": [
    "readings.shape"
   ]
  },
  {
   "cell_type": "markdown",
   "metadata": {},
   "source": [
    "## 3. Preprocessing the data\n",
    "\n",
    "In some cases, if the amount of targets is big enough, fitting high frequency data\n",
    "into memory will still be a challenge.\n",
    "\n",
    "For this cases, the `CSVLoader` class also supports passing a resampling rule and\n",
    "an aggregation function specification, so the data can go through a sampling\n",
    "frequency reduction aggregation while it is loaded, reducing the amount of spaces\n",
    "that it occupies in memory once loaded.\n",
    "\n",
    "In order to use the resampling feature, we will need to create a new instance\n",
    "of the `CSVLoader` passing the following new arguments:\n",
    "\n",
    "* `rule (str)`: Time-delta specification (amount+unit) of the new sampling frequency.\n",
    "* `aggregation (str or function)`: Aggregation to apply when resampling."
   ]
  },
  {
   "cell_type": "code",
   "execution_count": 29,
   "metadata": {},
   "outputs": [],
   "source": [
    "csv_loader = CSVLoader(readings_path, rule='4h', aggregation='mean')"
   ]
  },
  {
   "cell_type": "markdown",
   "metadata": {},
   "source": [
    "And then call the `load` method normally."
   ]
  },
  {
   "cell_type": "code",
   "execution_count": 30,
   "metadata": {},
   "outputs": [
    {
     "name": "stderr",
     "output_type": "stream",
     "text": [
      "2020-02-10 19:31:50,932 - INFO - csv - Loaded 1235535 readings from turbine T001\n",
      "2020-02-10 19:31:50,938 - INFO - csv - Resampling: 4h - mean\n",
      "2020-02-10 19:31:51,459 - INFO - csv - Loaded 52130 turbine readings\n",
      "2020-02-10 19:31:51,689 - INFO - targets - Dropped 2 invalid targets\n"
     ]
    }
   ],
   "source": [
    "target_times, readings = csv_loader.load(target_times, '14d')"
   ]
  },
  {
   "cell_type": "code",
   "execution_count": 31,
   "metadata": {},
   "outputs": [
    {
     "data": {
      "text/plain": [
       "(52130, 4)"
      ]
     },
     "execution_count": 31,
     "metadata": {},
     "output_type": "execute_result"
    }
   ],
   "source": [
    "readings.shape"
   ]
  },
  {
   "cell_type": "code",
   "execution_count": 32,
   "metadata": {},
   "outputs": [
    {
     "data": {
      "text/html": [
       "<div>\n",
       "<style scoped>\n",
       "    .dataframe tbody tr th:only-of-type {\n",
       "        vertical-align: middle;\n",
       "    }\n",
       "\n",
       "    .dataframe tbody tr th {\n",
       "        vertical-align: top;\n",
       "    }\n",
       "\n",
       "    .dataframe thead th {\n",
       "        text-align: right;\n",
       "    }\n",
       "</style>\n",
       "<table border=\"1\" class=\"dataframe\">\n",
       "  <thead>\n",
       "    <tr style=\"text-align: right;\">\n",
       "      <th></th>\n",
       "      <th>turbine_id</th>\n",
       "      <th>signal_id</th>\n",
       "      <th>timestamp</th>\n",
       "      <th>value</th>\n",
       "    </tr>\n",
       "  </thead>\n",
       "  <tbody>\n",
       "    <tr>\n",
       "      <th>0</th>\n",
       "      <td>T001</td>\n",
       "      <td>S01</td>\n",
       "      <td>2013-01-27 00:00:00</td>\n",
       "      <td>791.333333</td>\n",
       "    </tr>\n",
       "    <tr>\n",
       "      <th>1</th>\n",
       "      <td>T001</td>\n",
       "      <td>S01</td>\n",
       "      <td>2013-01-27 04:00:00</td>\n",
       "      <td>746.750000</td>\n",
       "    </tr>\n",
       "    <tr>\n",
       "      <th>2</th>\n",
       "      <td>T001</td>\n",
       "      <td>S01</td>\n",
       "      <td>2013-01-27 08:00:00</td>\n",
       "      <td>808.750000</td>\n",
       "    </tr>\n",
       "    <tr>\n",
       "      <th>3</th>\n",
       "      <td>T001</td>\n",
       "      <td>S01</td>\n",
       "      <td>2013-01-27 12:00:00</td>\n",
       "      <td>760.125000</td>\n",
       "    </tr>\n",
       "    <tr>\n",
       "      <th>4</th>\n",
       "      <td>T001</td>\n",
       "      <td>S01</td>\n",
       "      <td>2013-01-27 16:00:00</td>\n",
       "      <td>720.833333</td>\n",
       "    </tr>\n",
       "  </tbody>\n",
       "</table>\n",
       "</div>"
      ],
      "text/plain": [
       "  turbine_id signal_id           timestamp       value\n",
       "0       T001       S01 2013-01-27 00:00:00  791.333333\n",
       "1       T001       S01 2013-01-27 04:00:00  746.750000\n",
       "2       T001       S01 2013-01-27 08:00:00  808.750000\n",
       "3       T001       S01 2013-01-27 12:00:00  760.125000\n",
       "4       T001       S01 2013-01-27 16:00:00  720.833333"
      ]
     },
     "execution_count": 32,
     "metadata": {},
     "output_type": "execute_result"
    }
   ],
   "source": [
    "readings.head()"
   ]
  },
  {
   "cell_type": "code",
   "execution_count": 33,
   "metadata": {},
   "outputs": [
    {
     "data": {
      "text/plain": [
       "(319, 3)"
      ]
     },
     "execution_count": 33,
     "metadata": {},
     "output_type": "execute_result"
    }
   ],
   "source": [
    "target_times.shape"
   ]
  },
  {
   "cell_type": "markdown",
   "metadata": {},
   "source": [
    "## 4. Unstacking\n",
    "\n",
    "Some of the pipelines included in **GreenGuard** expect a slightly different input format,\n",
    "where the data has been unstacked by `signal_id`, putting the values of each signal in a\n",
    "different column instead of having all of them in a single column.\n",
    "\n",
    "In such cases, the `CSVLoader` can also take care of the unstacking step.\n",
    "\n",
    "For this, all you need to do is add `unstack=True` argument when creating the instance\n",
    "and then use the `load` method as usual."
   ]
  },
  {
   "cell_type": "code",
   "execution_count": 34,
   "metadata": {},
   "outputs": [
    {
     "name": "stderr",
     "output_type": "stream",
     "text": [
      "2020-02-10 19:36:03,403 - INFO - csv - Loaded 1228047 readings from turbine T001\n",
      "2020-02-10 19:36:03,411 - INFO - csv - Resampling: 4h - mean\n",
      "2020-02-10 19:36:03,881 - INFO - csv - Loaded 1993 turbine readings\n",
      "2020-02-10 19:36:04,165 - INFO - targets - Dropped 2 invalid targets\n"
     ]
    }
   ],
   "source": [
    "csv_loader = CSVLoader(readings_path, rule='4h', aggregation='mean', unstack=True)\n",
    "target_times, readings = csv_loader.load(target_times, '14d')"
   ]
  },
  {
   "cell_type": "code",
   "execution_count": 35,
   "metadata": {},
   "outputs": [
    {
     "data": {
      "text/plain": [
       "(1993, 28)"
      ]
     },
     "execution_count": 35,
     "metadata": {},
     "output_type": "execute_result"
    }
   ],
   "source": [
    "readings.shape"
   ]
  },
  {
   "cell_type": "code",
   "execution_count": 36,
   "metadata": {},
   "outputs": [
    {
     "data": {
      "text/html": [
       "<div>\n",
       "<style scoped>\n",
       "    .dataframe tbody tr th:only-of-type {\n",
       "        vertical-align: middle;\n",
       "    }\n",
       "\n",
       "    .dataframe tbody tr th {\n",
       "        vertical-align: top;\n",
       "    }\n",
       "\n",
       "    .dataframe thead th {\n",
       "        text-align: right;\n",
       "    }\n",
       "</style>\n",
       "<table border=\"1\" class=\"dataframe\">\n",
       "  <thead>\n",
       "    <tr style=\"text-align: right;\">\n",
       "      <th></th>\n",
       "      <th>turbine_id</th>\n",
       "      <th>timestamp</th>\n",
       "      <th>value_S01</th>\n",
       "      <th>value_S02</th>\n",
       "      <th>value_S03</th>\n",
       "      <th>value_S04</th>\n",
       "      <th>value_S05</th>\n",
       "      <th>value_S06</th>\n",
       "      <th>value_S07</th>\n",
       "      <th>value_S08</th>\n",
       "      <th>...</th>\n",
       "      <th>value_S17</th>\n",
       "      <th>value_S18</th>\n",
       "      <th>value_S19</th>\n",
       "      <th>value_S20</th>\n",
       "      <th>value_S21</th>\n",
       "      <th>value_S22</th>\n",
       "      <th>value_S23</th>\n",
       "      <th>value_S24</th>\n",
       "      <th>value_S25</th>\n",
       "      <th>value_S26</th>\n",
       "    </tr>\n",
       "  </thead>\n",
       "  <tbody>\n",
       "    <tr>\n",
       "      <th>0</th>\n",
       "      <td>T001</td>\n",
       "      <td>2013-01-28 00:00:00</td>\n",
       "      <td>715.750000</td>\n",
       "      <td>709.333333</td>\n",
       "      <td>710.208333</td>\n",
       "      <td>796.666667</td>\n",
       "      <td>771.750000</td>\n",
       "      <td>732.916667</td>\n",
       "      <td>766.166667</td>\n",
       "      <td>3.361627e+06</td>\n",
       "      <td>...</td>\n",
       "      <td>13.487500</td>\n",
       "      <td>4.272212e+06</td>\n",
       "      <td>49.041667</td>\n",
       "      <td>49.041667</td>\n",
       "      <td>49.041667</td>\n",
       "      <td>49.041667</td>\n",
       "      <td>49.041667</td>\n",
       "      <td>49.041667</td>\n",
       "      <td>49.041667</td>\n",
       "      <td>336.000000</td>\n",
       "    </tr>\n",
       "    <tr>\n",
       "      <th>1</th>\n",
       "      <td>T001</td>\n",
       "      <td>2013-01-28 04:00:00</td>\n",
       "      <td>779.416667</td>\n",
       "      <td>777.500000</td>\n",
       "      <td>779.666667</td>\n",
       "      <td>824.125000</td>\n",
       "      <td>800.083333</td>\n",
       "      <td>765.291667</td>\n",
       "      <td>791.958333</td>\n",
       "      <td>3.362652e+06</td>\n",
       "      <td>...</td>\n",
       "      <td>14.695833</td>\n",
       "      <td>4.279238e+06</td>\n",
       "      <td>43.875000</td>\n",
       "      <td>43.875000</td>\n",
       "      <td>43.875000</td>\n",
       "      <td>43.875000</td>\n",
       "      <td>43.916667</td>\n",
       "      <td>43.875000</td>\n",
       "      <td>43.916667</td>\n",
       "      <td>301.083333</td>\n",
       "    </tr>\n",
       "    <tr>\n",
       "      <th>2</th>\n",
       "      <td>T001</td>\n",
       "      <td>2013-01-28 08:00:00</td>\n",
       "      <td>732.583333</td>\n",
       "      <td>757.375000</td>\n",
       "      <td>738.125000</td>\n",
       "      <td>794.583333</td>\n",
       "      <td>765.291667</td>\n",
       "      <td>736.541667</td>\n",
       "      <td>766.916667</td>\n",
       "      <td>3.364190e+06</td>\n",
       "      <td>...</td>\n",
       "      <td>14.100000</td>\n",
       "      <td>4.289814e+06</td>\n",
       "      <td>81.666667</td>\n",
       "      <td>82.375000</td>\n",
       "      <td>82.416667</td>\n",
       "      <td>82.875000</td>\n",
       "      <td>82.541667</td>\n",
       "      <td>83.250000</td>\n",
       "      <td>81.416667</td>\n",
       "      <td>564.041667</td>\n",
       "    </tr>\n",
       "    <tr>\n",
       "      <th>3</th>\n",
       "      <td>T001</td>\n",
       "      <td>2013-01-28 12:00:00</td>\n",
       "      <td>743.833333</td>\n",
       "      <td>779.083333</td>\n",
       "      <td>775.833333</td>\n",
       "      <td>804.208333</td>\n",
       "      <td>771.458333</td>\n",
       "      <td>736.166667</td>\n",
       "      <td>761.000000</td>\n",
       "      <td>3.366258e+06</td>\n",
       "      <td>...</td>\n",
       "      <td>13.691667</td>\n",
       "      <td>4.304198e+06</td>\n",
       "      <td>88.250000</td>\n",
       "      <td>90.833333</td>\n",
       "      <td>90.875000</td>\n",
       "      <td>91.500000</td>\n",
       "      <td>90.166667</td>\n",
       "      <td>90.875000</td>\n",
       "      <td>88.916667</td>\n",
       "      <td>616.833333</td>\n",
       "    </tr>\n",
       "    <tr>\n",
       "      <th>4</th>\n",
       "      <td>T001</td>\n",
       "      <td>2013-01-28 16:00:00</td>\n",
       "      <td>640.416667</td>\n",
       "      <td>678.000000</td>\n",
       "      <td>675.958333</td>\n",
       "      <td>709.166667</td>\n",
       "      <td>675.833333</td>\n",
       "      <td>670.666667</td>\n",
       "      <td>682.166667</td>\n",
       "      <td>3.368310e+06</td>\n",
       "      <td>...</td>\n",
       "      <td>12.454167</td>\n",
       "      <td>4.318658e+06</td>\n",
       "      <td>80.458333</td>\n",
       "      <td>83.541667</td>\n",
       "      <td>85.333333</td>\n",
       "      <td>85.916667</td>\n",
       "      <td>83.500000</td>\n",
       "      <td>86.375000</td>\n",
       "      <td>83.333333</td>\n",
       "      <td>574.958333</td>\n",
       "    </tr>\n",
       "  </tbody>\n",
       "</table>\n",
       "<p>5 rows × 28 columns</p>\n",
       "</div>"
      ],
      "text/plain": [
       "  turbine_id           timestamp   value_S01   value_S02   value_S03  \\\n",
       "0       T001 2013-01-28 00:00:00  715.750000  709.333333  710.208333   \n",
       "1       T001 2013-01-28 04:00:00  779.416667  777.500000  779.666667   \n",
       "2       T001 2013-01-28 08:00:00  732.583333  757.375000  738.125000   \n",
       "3       T001 2013-01-28 12:00:00  743.833333  779.083333  775.833333   \n",
       "4       T001 2013-01-28 16:00:00  640.416667  678.000000  675.958333   \n",
       "\n",
       "    value_S04   value_S05   value_S06   value_S07     value_S08  ...  \\\n",
       "0  796.666667  771.750000  732.916667  766.166667  3.361627e+06  ...   \n",
       "1  824.125000  800.083333  765.291667  791.958333  3.362652e+06  ...   \n",
       "2  794.583333  765.291667  736.541667  766.916667  3.364190e+06  ...   \n",
       "3  804.208333  771.458333  736.166667  761.000000  3.366258e+06  ...   \n",
       "4  709.166667  675.833333  670.666667  682.166667  3.368310e+06  ...   \n",
       "\n",
       "   value_S17     value_S18  value_S19  value_S20  value_S21  value_S22  \\\n",
       "0  13.487500  4.272212e+06  49.041667  49.041667  49.041667  49.041667   \n",
       "1  14.695833  4.279238e+06  43.875000  43.875000  43.875000  43.875000   \n",
       "2  14.100000  4.289814e+06  81.666667  82.375000  82.416667  82.875000   \n",
       "3  13.691667  4.304198e+06  88.250000  90.833333  90.875000  91.500000   \n",
       "4  12.454167  4.318658e+06  80.458333  83.541667  85.333333  85.916667   \n",
       "\n",
       "   value_S23  value_S24  value_S25   value_S26  \n",
       "0  49.041667  49.041667  49.041667  336.000000  \n",
       "1  43.916667  43.875000  43.916667  301.083333  \n",
       "2  82.541667  83.250000  81.416667  564.041667  \n",
       "3  90.166667  90.875000  88.916667  616.833333  \n",
       "4  83.500000  86.375000  83.333333  574.958333  \n",
       "\n",
       "[5 rows x 28 columns]"
      ]
     },
     "execution_count": 36,
     "metadata": {},
     "output_type": "execute_result"
    }
   ],
   "source": [
    "readings.head()"
   ]
  }
 ],
 "metadata": {
  "kernelspec": {
   "display_name": "Python 3",
   "language": "python",
   "name": "python3"
  },
  "language_info": {
   "codemirror_mode": {
    "name": "ipython",
    "version": 3
   },
   "file_extension": ".py",
   "mimetype": "text/x-python",
   "name": "python",
   "nbconvert_exporter": "python",
   "pygments_lexer": "ipython3",
   "version": "3.6.9"
  }
 },
 "nbformat": 4,
 "nbformat_minor": 4
}
