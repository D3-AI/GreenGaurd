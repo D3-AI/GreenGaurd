{
 "cells": [
  {
   "cell_type": "code",
   "execution_count": null,
   "metadata": {},
   "outputs": [],
   "source": [
    "import logging;\n",
    "\n",
    "logging.basicConfig(level=logging.INFO)\n",
    "logging.getLogger().setLevel(level=logging.INFO)\n",
    "\n",
    "import warnings\n",
    "warnings.simplefilter(\"ignore\")"
   ]
  },
  {
   "cell_type": "code",
   "execution_count": 1,
   "metadata": {
    "scrolled": true
   },
   "outputs": [
    {
     "name": "stderr",
     "output_type": "stream",
     "text": [
      "2020-02-03 12:49:43,764 - INFO - demo - Generating file raw_demo/T001/2013-01-.csv\n",
      "2020-02-03 12:49:44,277 - INFO - demo - Generating file raw_demo/T001/2013-02-.csv\n",
      "2020-02-03 12:49:44,810 - INFO - demo - Generating file raw_demo/T001/2013-03-.csv\n",
      "2020-02-03 12:49:45,345 - INFO - demo - Generating file raw_demo/T001/2013-04-.csv\n",
      "2020-02-03 12:49:45,885 - INFO - demo - Generating file raw_demo/T001/2013-05-.csv\n",
      "2020-02-03 12:49:46,417 - INFO - demo - Generating file raw_demo/T001/2013-06-.csv\n",
      "2020-02-03 12:49:46,954 - INFO - demo - Generating file raw_demo/T001/2013-07-.csv\n",
      "2020-02-03 12:49:47,492 - INFO - demo - Generating file raw_demo/T001/2013-08-.csv\n",
      "2020-02-03 12:49:48,017 - INFO - demo - Generating file raw_demo/T001/2013-09-.csv\n",
      "2020-02-03 12:49:48,543 - INFO - demo - Generating file raw_demo/T001/2013-10-.csv\n",
      "2020-02-03 12:49:49,094 - INFO - demo - Generating file raw_demo/T001/2013-11-.csv\n",
      "2020-02-03 12:49:49,606 - INFO - demo - Generating file raw_demo/T001/2013-12-.csv\n"
     ]
    }
   ],
   "source": [
    "from greenguard.demo import generate_raw_readings\n",
    "\n",
    "target_times = generate_raw_readings('raw_demo')"
   ]
  },
  {
   "cell_type": "code",
   "execution_count": 2,
   "metadata": {},
   "outputs": [
    {
     "data": {
      "text/plain": [
       "(353, 3)"
      ]
     },
     "execution_count": 2,
     "metadata": {},
     "output_type": "execute_result"
    }
   ],
   "source": [
    "target_times.shape"
   ]
  },
  {
   "cell_type": "code",
   "execution_count": 3,
   "metadata": {},
   "outputs": [
    {
     "data": {
      "text/html": [
       "<div>\n",
       "<style scoped>\n",
       "    .dataframe tbody tr th:only-of-type {\n",
       "        vertical-align: middle;\n",
       "    }\n",
       "\n",
       "    .dataframe tbody tr th {\n",
       "        vertical-align: top;\n",
       "    }\n",
       "\n",
       "    .dataframe thead th {\n",
       "        text-align: right;\n",
       "    }\n",
       "</style>\n",
       "<table border=\"1\" class=\"dataframe\">\n",
       "  <thead>\n",
       "    <tr style=\"text-align: right;\">\n",
       "      <th></th>\n",
       "      <th>turbine_id</th>\n",
       "      <th>cutoff_time</th>\n",
       "      <th>target</th>\n",
       "    </tr>\n",
       "  </thead>\n",
       "  <tbody>\n",
       "    <tr>\n",
       "      <th>0</th>\n",
       "      <td>T001</td>\n",
       "      <td>2013-01-12</td>\n",
       "      <td>0</td>\n",
       "    </tr>\n",
       "    <tr>\n",
       "      <th>1</th>\n",
       "      <td>T001</td>\n",
       "      <td>2013-01-13</td>\n",
       "      <td>0</td>\n",
       "    </tr>\n",
       "    <tr>\n",
       "      <th>2</th>\n",
       "      <td>T001</td>\n",
       "      <td>2013-01-14</td>\n",
       "      <td>0</td>\n",
       "    </tr>\n",
       "    <tr>\n",
       "      <th>3</th>\n",
       "      <td>T001</td>\n",
       "      <td>2013-01-15</td>\n",
       "      <td>1</td>\n",
       "    </tr>\n",
       "    <tr>\n",
       "      <th>4</th>\n",
       "      <td>T001</td>\n",
       "      <td>2013-01-16</td>\n",
       "      <td>0</td>\n",
       "    </tr>\n",
       "  </tbody>\n",
       "</table>\n",
       "</div>"
      ],
      "text/plain": [
       "  turbine_id cutoff_time  target\n",
       "0       T001  2013-01-12       0\n",
       "1       T001  2013-01-13       0\n",
       "2       T001  2013-01-14       0\n",
       "3       T001  2013-01-15       1\n",
       "4       T001  2013-01-16       0"
      ]
     },
     "execution_count": 3,
     "metadata": {},
     "output_type": "execute_result"
    }
   ],
   "source": [
    "target_times.head()"
   ]
  },
  {
   "cell_type": "code",
   "execution_count": 4,
   "metadata": {},
   "outputs": [
    {
     "data": {
      "text/plain": [
       "0.3002832861189802"
      ]
     },
     "execution_count": 4,
     "metadata": {},
     "output_type": "execute_result"
    }
   ],
   "source": [
    "target_times.target.mean()"
   ]
  },
  {
   "cell_type": "code",
   "execution_count": 5,
   "metadata": {},
   "outputs": [
    {
     "data": {
      "text/plain": [
       "turbine_id             object\n",
       "cutoff_time    datetime64[ns]\n",
       "target                  int64\n",
       "dtype: object"
      ]
     },
     "execution_count": 5,
     "metadata": {},
     "output_type": "execute_result"
    }
   ],
   "source": [
    "target_times.dtypes"
   ]
  },
  {
   "cell_type": "code",
   "execution_count": 6,
   "metadata": {},
   "outputs": [],
   "source": [
    "from greenguard.loaders import CSVLoader"
   ]
  },
  {
   "cell_type": "code",
   "execution_count": 7,
   "metadata": {
    "scrolled": false
   },
   "outputs": [
    {
     "name": "stderr",
     "output_type": "stream",
     "text": [
      "2020-02-03 12:50:11,263 - INFO - csv - Loaded 1306052 readings from turbine T001\n",
      "2020-02-03 12:50:11,275 - INFO - csv - Loaded 1306052 turbine readings\n",
      "2020-02-03 12:50:11,500 - INFO - targets - Dropped 2 invalid targets\n"
     ]
    }
   ],
   "source": [
    "import numpy as np\n",
    "\n",
    "csv_loader = CSVLoader('raw_demo')\n",
    "target_times, readings = csv_loader.load(target_times, '1d')"
   ]
  },
  {
   "cell_type": "code",
   "execution_count": 8,
   "metadata": {},
   "outputs": [
    {
     "data": {
      "text/plain": [
       "(1306052, 4)"
      ]
     },
     "execution_count": 8,
     "metadata": {},
     "output_type": "execute_result"
    }
   ],
   "source": [
    "readings.shape"
   ]
  },
  {
   "cell_type": "code",
   "execution_count": 9,
   "metadata": {},
   "outputs": [
    {
     "data": {
      "text/html": [
       "<div>\n",
       "<style scoped>\n",
       "    .dataframe tbody tr th:only-of-type {\n",
       "        vertical-align: middle;\n",
       "    }\n",
       "\n",
       "    .dataframe tbody tr th {\n",
       "        vertical-align: top;\n",
       "    }\n",
       "\n",
       "    .dataframe thead th {\n",
       "        text-align: right;\n",
       "    }\n",
       "</style>\n",
       "<table border=\"1\" class=\"dataframe\">\n",
       "  <thead>\n",
       "    <tr style=\"text-align: right;\">\n",
       "      <th></th>\n",
       "      <th>turbine_id</th>\n",
       "      <th>signal_id</th>\n",
       "      <th>timestamp</th>\n",
       "      <th>value</th>\n",
       "    </tr>\n",
       "  </thead>\n",
       "  <tbody>\n",
       "    <tr>\n",
       "      <th>0</th>\n",
       "      <td>T001</td>\n",
       "      <td>S01</td>\n",
       "      <td>2013-01-11</td>\n",
       "      <td>209.0</td>\n",
       "    </tr>\n",
       "    <tr>\n",
       "      <th>1</th>\n",
       "      <td>T001</td>\n",
       "      <td>S02</td>\n",
       "      <td>2013-01-11</td>\n",
       "      <td>193.0</td>\n",
       "    </tr>\n",
       "    <tr>\n",
       "      <th>2</th>\n",
       "      <td>T001</td>\n",
       "      <td>S03</td>\n",
       "      <td>2013-01-11</td>\n",
       "      <td>177.0</td>\n",
       "    </tr>\n",
       "    <tr>\n",
       "      <th>3</th>\n",
       "      <td>T001</td>\n",
       "      <td>S04</td>\n",
       "      <td>2013-01-11</td>\n",
       "      <td>188.0</td>\n",
       "    </tr>\n",
       "    <tr>\n",
       "      <th>4</th>\n",
       "      <td>T001</td>\n",
       "      <td>S05</td>\n",
       "      <td>2013-01-11</td>\n",
       "      <td>150.0</td>\n",
       "    </tr>\n",
       "  </tbody>\n",
       "</table>\n",
       "</div>"
      ],
      "text/plain": [
       "  turbine_id signal_id  timestamp  value\n",
       "0       T001       S01 2013-01-11  209.0\n",
       "1       T001       S02 2013-01-11  193.0\n",
       "2       T001       S03 2013-01-11  177.0\n",
       "3       T001       S04 2013-01-11  188.0\n",
       "4       T001       S05 2013-01-11  150.0"
      ]
     },
     "execution_count": 9,
     "metadata": {},
     "output_type": "execute_result"
    }
   ],
   "source": [
    "readings.head()"
   ]
  },
  {
   "cell_type": "code",
   "execution_count": 10,
   "metadata": {},
   "outputs": [
    {
     "data": {
      "text/plain": [
       "turbine_id            object\n",
       "signal_id             object\n",
       "timestamp     datetime64[ns]\n",
       "value                float64\n",
       "dtype: object"
      ]
     },
     "execution_count": 10,
     "metadata": {},
     "output_type": "execute_result"
    }
   ],
   "source": [
    "readings.dtypes"
   ]
  },
  {
   "cell_type": "code",
   "execution_count": 11,
   "metadata": {},
   "outputs": [
    {
     "data": {
      "text/plain": [
       "(351, 3)"
      ]
     },
     "execution_count": 11,
     "metadata": {},
     "output_type": "execute_result"
    }
   ],
   "source": [
    "target_times.shape"
   ]
  },
  {
   "cell_type": "code",
   "execution_count": 12,
   "metadata": {},
   "outputs": [
    {
     "name": "stderr",
     "output_type": "stream",
     "text": [
      "2020-02-03 12:50:31,423 - INFO - csv - Loaded 1306052 readings from turbine T001\n",
      "2020-02-03 12:50:31,427 - INFO - csv - Resampling: 4h - mean\n",
      "2020-02-03 12:50:31,689 - INFO - csv - Loaded 2119 turbine readings\n",
      "2020-02-03 12:50:31,843 - INFO - targets - Dropped 14 invalid targets\n"
     ]
    }
   ],
   "source": [
    "csv_loader = CSVLoader('raw_demo', rule='4h', aggregation='mean', unstack=True)\n",
    "target_times, readings = csv_loader.load(target_times, '15d')"
   ]
  },
  {
   "cell_type": "code",
   "execution_count": 13,
   "metadata": {},
   "outputs": [
    {
     "data": {
      "text/plain": [
       "(2119, 28)"
      ]
     },
     "execution_count": 13,
     "metadata": {},
     "output_type": "execute_result"
    }
   ],
   "source": [
    "readings.shape"
   ]
  },
  {
   "cell_type": "code",
   "execution_count": 14,
   "metadata": {},
   "outputs": [
    {
     "data": {
      "text/html": [
       "<div>\n",
       "<style scoped>\n",
       "    .dataframe tbody tr th:only-of-type {\n",
       "        vertical-align: middle;\n",
       "    }\n",
       "\n",
       "    .dataframe tbody tr th {\n",
       "        vertical-align: top;\n",
       "    }\n",
       "\n",
       "    .dataframe thead th {\n",
       "        text-align: right;\n",
       "    }\n",
       "</style>\n",
       "<table border=\"1\" class=\"dataframe\">\n",
       "  <thead>\n",
       "    <tr style=\"text-align: right;\">\n",
       "      <th></th>\n",
       "      <th>turbine_id</th>\n",
       "      <th>timestamp</th>\n",
       "      <th>value_S01</th>\n",
       "      <th>value_S02</th>\n",
       "      <th>value_S03</th>\n",
       "      <th>value_S04</th>\n",
       "      <th>value_S05</th>\n",
       "      <th>value_S06</th>\n",
       "      <th>value_S07</th>\n",
       "      <th>value_S08</th>\n",
       "      <th>...</th>\n",
       "      <th>value_S17</th>\n",
       "      <th>value_S18</th>\n",
       "      <th>value_S19</th>\n",
       "      <th>value_S20</th>\n",
       "      <th>value_S21</th>\n",
       "      <th>value_S22</th>\n",
       "      <th>value_S23</th>\n",
       "      <th>value_S24</th>\n",
       "      <th>value_S25</th>\n",
       "      <th>value_S26</th>\n",
       "    </tr>\n",
       "  </thead>\n",
       "  <tbody>\n",
       "    <tr>\n",
       "      <th>0</th>\n",
       "      <td>T001</td>\n",
       "      <td>2013-01-10 00:00:00</td>\n",
       "      <td>253.041667</td>\n",
       "      <td>268.250000</td>\n",
       "      <td>268.041667</td>\n",
       "      <td>297.166667</td>\n",
       "      <td>234.666667</td>\n",
       "      <td>261.916667</td>\n",
       "      <td>206.791667</td>\n",
       "      <td>3.198335e+06</td>\n",
       "      <td>...</td>\n",
       "      <td>9.079167</td>\n",
       "      <td>3.134510e+06</td>\n",
       "      <td>42.416667</td>\n",
       "      <td>44.958333</td>\n",
       "      <td>44.833333</td>\n",
       "      <td>49.625000</td>\n",
       "      <td>39.208333</td>\n",
       "      <td>43.833333</td>\n",
       "      <td>34.625</td>\n",
       "      <td>293.166667</td>\n",
       "    </tr>\n",
       "    <tr>\n",
       "      <th>1</th>\n",
       "      <td>T001</td>\n",
       "      <td>2013-01-10 04:00:00</td>\n",
       "      <td>572.083333</td>\n",
       "      <td>555.291667</td>\n",
       "      <td>538.666667</td>\n",
       "      <td>592.291667</td>\n",
       "      <td>557.166667</td>\n",
       "      <td>534.000000</td>\n",
       "      <td>544.250000</td>\n",
       "      <td>3.199514e+06</td>\n",
       "      <td>...</td>\n",
       "      <td>10.837500</td>\n",
       "      <td>3.142505e+06</td>\n",
       "      <td>62.083333</td>\n",
       "      <td>62.500000</td>\n",
       "      <td>63.625000</td>\n",
       "      <td>63.541667</td>\n",
       "      <td>61.333333</td>\n",
       "      <td>62.541667</td>\n",
       "      <td>54.000</td>\n",
       "      <td>421.208333</td>\n",
       "    </tr>\n",
       "    <tr>\n",
       "      <th>2</th>\n",
       "      <td>T001</td>\n",
       "      <td>2013-01-10 08:00:00</td>\n",
       "      <td>688.791667</td>\n",
       "      <td>696.791667</td>\n",
       "      <td>706.625000</td>\n",
       "      <td>750.791667</td>\n",
       "      <td>714.250000</td>\n",
       "      <td>683.333333</td>\n",
       "      <td>658.166667</td>\n",
       "      <td>3.201449e+06</td>\n",
       "      <td>...</td>\n",
       "      <td>12.754167</td>\n",
       "      <td>3.155809e+06</td>\n",
       "      <td>92.208333</td>\n",
       "      <td>94.958333</td>\n",
       "      <td>94.666667</td>\n",
       "      <td>97.333333</td>\n",
       "      <td>94.125000</td>\n",
       "      <td>93.583333</td>\n",
       "      <td>86.375</td>\n",
       "      <td>638.291667</td>\n",
       "    </tr>\n",
       "    <tr>\n",
       "      <th>3</th>\n",
       "      <td>T001</td>\n",
       "      <td>2013-01-10 12:00:00</td>\n",
       "      <td>396.333333</td>\n",
       "      <td>418.500000</td>\n",
       "      <td>415.791667</td>\n",
       "      <td>438.541667</td>\n",
       "      <td>382.250000</td>\n",
       "      <td>364.666667</td>\n",
       "      <td>320.333333</td>\n",
       "      <td>3.203319e+06</td>\n",
       "      <td>...</td>\n",
       "      <td>10.916667</td>\n",
       "      <td>3.168640e+06</td>\n",
       "      <td>55.750000</td>\n",
       "      <td>60.083333</td>\n",
       "      <td>58.583333</td>\n",
       "      <td>61.291667</td>\n",
       "      <td>52.791667</td>\n",
       "      <td>52.791667</td>\n",
       "      <td>44.000</td>\n",
       "      <td>376.125000</td>\n",
       "    </tr>\n",
       "    <tr>\n",
       "      <th>4</th>\n",
       "      <td>T001</td>\n",
       "      <td>2013-01-10 16:00:00</td>\n",
       "      <td>390.458333</td>\n",
       "      <td>408.875000</td>\n",
       "      <td>409.500000</td>\n",
       "      <td>458.000000</td>\n",
       "      <td>415.583333</td>\n",
       "      <td>363.000000</td>\n",
       "      <td>364.458333</td>\n",
       "      <td>3.204504e+06</td>\n",
       "      <td>...</td>\n",
       "      <td>10.412500</td>\n",
       "      <td>3.176672e+06</td>\n",
       "      <td>49.958333</td>\n",
       "      <td>53.875000</td>\n",
       "      <td>54.458333</td>\n",
       "      <td>56.750000</td>\n",
       "      <td>52.708333</td>\n",
       "      <td>46.708333</td>\n",
       "      <td>47.625</td>\n",
       "      <td>354.750000</td>\n",
       "    </tr>\n",
       "  </tbody>\n",
       "</table>\n",
       "<p>5 rows × 28 columns</p>\n",
       "</div>"
      ],
      "text/plain": [
       "  turbine_id           timestamp   value_S01   value_S02   value_S03  \\\n",
       "0       T001 2013-01-10 00:00:00  253.041667  268.250000  268.041667   \n",
       "1       T001 2013-01-10 04:00:00  572.083333  555.291667  538.666667   \n",
       "2       T001 2013-01-10 08:00:00  688.791667  696.791667  706.625000   \n",
       "3       T001 2013-01-10 12:00:00  396.333333  418.500000  415.791667   \n",
       "4       T001 2013-01-10 16:00:00  390.458333  408.875000  409.500000   \n",
       "\n",
       "    value_S04   value_S05   value_S06   value_S07     value_S08  ...  \\\n",
       "0  297.166667  234.666667  261.916667  206.791667  3.198335e+06  ...   \n",
       "1  592.291667  557.166667  534.000000  544.250000  3.199514e+06  ...   \n",
       "2  750.791667  714.250000  683.333333  658.166667  3.201449e+06  ...   \n",
       "3  438.541667  382.250000  364.666667  320.333333  3.203319e+06  ...   \n",
       "4  458.000000  415.583333  363.000000  364.458333  3.204504e+06  ...   \n",
       "\n",
       "   value_S17     value_S18  value_S19  value_S20  value_S21  value_S22  \\\n",
       "0   9.079167  3.134510e+06  42.416667  44.958333  44.833333  49.625000   \n",
       "1  10.837500  3.142505e+06  62.083333  62.500000  63.625000  63.541667   \n",
       "2  12.754167  3.155809e+06  92.208333  94.958333  94.666667  97.333333   \n",
       "3  10.916667  3.168640e+06  55.750000  60.083333  58.583333  61.291667   \n",
       "4  10.412500  3.176672e+06  49.958333  53.875000  54.458333  56.750000   \n",
       "\n",
       "   value_S23  value_S24  value_S25   value_S26  \n",
       "0  39.208333  43.833333     34.625  293.166667  \n",
       "1  61.333333  62.541667     54.000  421.208333  \n",
       "2  94.125000  93.583333     86.375  638.291667  \n",
       "3  52.791667  52.791667     44.000  376.125000  \n",
       "4  52.708333  46.708333     47.625  354.750000  \n",
       "\n",
       "[5 rows x 28 columns]"
      ]
     },
     "execution_count": 14,
     "metadata": {},
     "output_type": "execute_result"
    }
   ],
   "source": [
    "readings.head()"
   ]
  },
  {
   "cell_type": "code",
   "execution_count": 15,
   "metadata": {},
   "outputs": [
    {
     "data": {
      "text/plain": [
       "(337, 3)"
      ]
     },
     "execution_count": 15,
     "metadata": {},
     "output_type": "execute_result"
    }
   ],
   "source": [
    "target_times.shape"
   ]
  }
 ],
 "metadata": {
  "kernelspec": {
   "display_name": "Python 3",
   "language": "python",
   "name": "python3"
  },
  "language_info": {
   "codemirror_mode": {
    "name": "ipython",
    "version": 3
   },
   "file_extension": ".py",
   "mimetype": "text/x-python",
   "name": "python",
   "nbconvert_exporter": "python",
   "pygments_lexer": "ipython3",
   "version": "3.6.9"
  }
 },
 "nbformat": 4,
 "nbformat_minor": 4
}
